{
  "cells": [
    {
      "cell_type": "markdown",
      "metadata": {
        "id": "BwfXT98e5hQc"
      },
      "source": [
        "# Neural Networks for Data Science Applications\n",
        "## End-of-term homework: Recurrent neural networks and autoregressive modelling\n",
        "\n",
        "**Name**: Milad Torabi\n",
        "\n",
        "**Matricola**: 2103454"
      ]
    },
    {
      "cell_type": "code",
      "execution_count": 2,
      "metadata": {
        "id": "5V6Ph3UT44Xo"
      },
      "outputs": [],
      "source": [
        "import jax\n",
        "import jax.numpy as jnp\n",
        "import matplotlib.pyplot as plt\n",
        "from jax import lax , nn\n",
        "import matplotlib.pyplot as plt"
      ]
    },
    {
      "cell_type": "markdown",
      "metadata": {
        "id": "FpQj4F8n20LI"
      },
      "source": [
        "# Dataset Description\n",
        "\n",
        "- **Name of Dataset:** Penn Treebank  \n",
        "- **Source & Reference:**  \n",
        "  The Penn Treebank (PTB) was originally created at the University of Pennsylvania and consists of a collection of Wall Street Journal articles. It is often used in language modeling benchmarks, with standardized train/validation/test splits tailored for both character-level and word-level tasks.  \n",
        "\n",
        "  A character-level variant of PTB can be found from various online sources. In this project, we obtained the dataset from Tom Sercu’s GitHub repository, which provides a cleaned version suitable for our task.  \n",
        "\n",
        "# Preprocessing Applied\n",
        "1. The dataset consists of two text files: `'ptb.train.txt'` (training split) and `'ptb.valid.txt'` (validation split). Each file contains plain text, which we clean and split by lines.  \n",
        "2. We read the files in Python, yielding raw text strings (`train_text`, `val_text`).  \n",
        "3. We extract all unique characters across the training and validation data. Each character is mapped to an integer ID (`char2idx`), and a reverse mapping (`idx2char`) is created. Any character not in the dictionary is replaced with an \"UNK\" ID.  \n",
        "4. Each character in the text is converted to its corresponding integer ID using `char2idx`. The encoded text is stored in a JAX array to facilitate vectorized operations.  \n",
        "5. The encoded array is divided into subsequences of length `sequence_length`. Each input sequence \\(x\\) has a corresponding target sequence \\(y\\), which is the same sequence shifted by one character (autoregressive next-character prediction).  \n",
        "6. The generated sequences are shuffled and fed into mini-batches during training.  \n",
        "7. No additional filtering is applied; punctuation, numbers, and special characters are retained as they appear in the original dataset.  \n",
        "\n",
        "Below, in the code, we provide statistical insights about the dataset.\n"
      ]
    },
    {
      "cell_type": "markdown",
      "metadata": {
        "id": "0i1Jr0mQ7lRY"
      },
      "source": [
        "### Training a recurrent model"
      ]
    },
    {
      "cell_type": "markdown",
      "metadata": {
        "id": "MZ35kwsLGh8t"
      },
      "source": [
        "# **Project Overview: Character-Level Language Model with Penn Treebank**\n",
        "\n",
        "In this project, I implemented a character-level language model using the Penn Treebank (PTB) dataset. The goal is to perform next-character prediction in an autoregressive manner, where the model processes a sequence of characters (tokens) and learns to predict the next one.  \n",
        "\n",
        "To comply with the requirement of using **only JAX**, I implemented all neural network operations—including parameter updates and the forward pass—purely in JAX. The dataset was preprocessed by converting each character to an integer ID and then chunking the data into fixed-length sequences for training.\n",
        "\n",
        "## **Model Architecture**\n",
        "The model follows a **vanilla RNN architecture**, using the same formulation taught in class and following the exact equations from the lecture slides. It consists of:\n",
        "- Parameters for transforming inputs into hidden states.\n",
        "- Parameters for transforming hidden states into outputs.\n",
        "- A direct mapping from raw input tokens to the output layer.\n",
        "\n",
        "During the forward pass, we unroll the RNN using `jax.lax.scan`, ensuring efficient vectorized computations across both batch and time dimensions. The model is trained using gradient descent with **cross-entropy loss** for next-character prediction, and its performance is demonstrated through autoregressive text generation.\n",
        "\n",
        "## **Model Design & Formulas**\n",
        "The following notation defines the model’s key components:\n",
        "\n",
        "- **state_size (e):** Hyperparameter defining the size of the hidden state.  \n",
        "- **input_token_size (c):** Dimensionality of each input token.  \n",
        "- **output_size (o):** Size of the output (vocabulary size).    \n",
        "\n",
        "The weight matrices are defined as:  \n",
        "\n",
        "- A : A_ee is (state_size , state_size)\n",
        "- B : B_ce is (input_token_size , state_size)\n",
        "- C : C_eo is (state_size , output_size)\n",
        "- D : D_co is (input_token_size , output_size)    \n",
        "\n",
        "### **Equations:**\n",
        "- **State Transition Function:**  \n",
        "  $$\n",
        "  f(s_{i-1}, x_i) = \\varphi(A s_{i-1} + B x_i)\n",
        "  $$\n",
        "  where $$ (\\varphi) $$ is the activation function. I selected **tanh** as the activation function.\n",
        "\n",
        "- **Readout Function:**  \n",
        "  $$\n",
        "  g(s_i, x_i) = C s_i + D x_i\n",
        "  $$\n",
        "\n",
        "\n",
        "## **Implementation Approach**\n",
        "I implemented the Vanilla RNN step by step, following the structured methodology outlined below.\n"
      ]
    },
    {
      "cell_type": "code",
      "execution_count": 3,
      "metadata": {
        "id": "bt193WvBi-OY"
      },
      "outputs": [],
      "source": [
        "# TODO: Your code here.\n",
        "import gdown  # Importing gdown to download files from Google Drive\n",
        "from tqdm import tqdm\n",
        "import numpy as np\n",
        "import matplotlib.pyplot as plt"
      ]
    },
    {
      "cell_type": "code",
      "execution_count": 4,
      "metadata": {
        "colab": {
          "base_uri": "https://localhost:8080/"
        },
        "id": "WGeQDlEpJ-3b",
        "outputId": "7e706286-866d-44af-962c-d6807d6d8421"
      },
      "outputs": [
        {
          "name": "stderr",
          "output_type": "stream",
          "text": [
            "Downloading...\n",
            "From: https://drive.google.com/uc?id=1paq7Iq2k1FiluiNdfk3VhCjHdmmYaHtw\n",
            "To: /content/ptb.train.txt\n",
            "100%|██████████| 5.10M/5.10M [00:00<00:00, 85.5MB/s]\n",
            "Downloading...\n",
            "From: https://drive.google.com/uc?id=16yEut34DuOd4kCiIQKQZlC6RAV4l3sxf\n",
            "To: /content/ptb.valid.txt\n",
            "100%|██████████| 400k/400k [00:00<00:00, 64.1MB/s]"
          ]
        },
        {
          "name": "stdout",
          "output_type": "stream",
          "text": [
            "Dataset successfully loaded!\n"
          ]
        },
        {
          "name": "stderr",
          "output_type": "stream",
          "text": [
            "\n"
          ]
        }
      ],
      "source": [
        "# Step 1: Downloading Dataset from Google Drive\n",
        "\n",
        "# File IDs (these are unique identifiers for files stored on Google Drive)\n",
        "train_file_id = '1paq7Iq2k1FiluiNdfk3VhCjHdmmYaHtw'\n",
        "val_file_id = '16yEut34DuOd4kCiIQKQZlC6RAV4l3sxf'\n",
        "\n",
        "# Constructing direct download URLs for Google Drive\n",
        "train_url = f'https://drive.google.com/uc?id={train_file_id}'\n",
        "val_url = f'https://drive.google.com/uc?id={val_file_id}'\n",
        "\n",
        "# Download the training and validation files and save them locally\n",
        "gdown.download(train_url, 'ptb.train.txt', quiet=False)\n",
        "gdown.download(val_url, 'ptb.valid.txt', quiet=False)\n",
        "\n",
        "# Define file paths for later use\n",
        "train_path = \"ptb.train.txt\"\n",
        "val_path = \"ptb.valid.txt\"\n",
        "\n",
        "# Read the training text file into a string\n",
        "with open(train_path, \"r\", encoding=\"utf-8\") as f:\n",
        "    train_text = f.read()\n",
        "\n",
        "# Read the validation text file into a string\n",
        "with open(val_path, \"r\", encoding=\"utf-8\") as f:\n",
        "    val_text = f.read()\n",
        "\n",
        "# Concatenate the training and validation text into one string\n",
        "ds = train_text + val_text\n",
        "\n",
        "print(\"Dataset successfully loaded!\")"
      ]
    },
    {
      "cell_type": "code",
      "execution_count": 5,
      "metadata": {
        "colab": {
          "base_uri": "https://localhost:8080/"
        },
        "id": "BSoxqa6pGh8u",
        "outputId": "fa1c0766-14e5-40ce-c3aa-243b2bc79f28"
      },
      "outputs": [
        {
          "name": "stdout",
          "output_type": "stream",
          "text": [
            "Vocabulary size: 50\n",
            "{'\\n': 0, ' ': 1, '#': 2, '$': 3, '&': 4, \"'\": 5, '*': 6, '-': 7, '.': 8, '/': 9, '0': 10, '1': 11, '2': 12, '3': 13, '4': 14, '5': 15, '6': 16, '7': 17, '8': 18, '9': 19, '<': 20, '>': 21, 'N': 22, '\\\\': 23, 'a': 24, 'b': 25, 'c': 26, 'd': 27, 'e': 28, 'f': 29, 'g': 30, 'h': 31, 'i': 32, 'j': 33, 'k': 34, 'l': 35, 'm': 36, 'n': 37, 'o': 38, 'p': 39, 'q': 40, 'r': 41, 's': 42, 't': 43, 'u': 44, 'v': 45, 'w': 46, 'x': 47, 'y': 48, 'z': 49}\n",
            "{0: '\\n', 1: ' ', 2: '#', 3: '$', 4: '&', 5: \"'\", 6: '*', 7: '-', 8: '.', 9: '/', 10: '0', 11: '1', 12: '2', 13: '3', 14: '4', 15: '5', 16: '6', 17: '7', 18: '8', 19: '9', 20: '<', 21: '>', 22: 'N', 23: '\\\\', 24: 'a', 25: 'b', 26: 'c', 27: 'd', 28: 'e', 29: 'f', 30: 'g', 31: 'h', 32: 'i', 33: 'j', 34: 'k', 35: 'l', 36: 'm', 37: 'n', 38: 'o', 39: 'p', 40: 'q', 41: 'r', 42: 's', 43: 't', 44: 'u', 45: 'v', 46: 'w', 47: 'x', 48: 'y', 49: 'z'}\n"
          ]
        }
      ],
      "source": [
        "# 1.2 Building Vocabulary\n",
        "\n",
        "# Extract unique characters from the dataset (sorted for consistency)\n",
        "unique_chars = sorted(list(set(train_text + val_text)))\n",
        "output_size = len(unique_chars)\n",
        "\n",
        "# Create mappings: character to index (for encoding) and index to character (for decoding)\n",
        "char2idx = {ch: i for i, ch in enumerate(unique_chars)}\n",
        "idx2char = {i: ch for ch, i in char2idx.items()}\n",
        "\n",
        "# Print vocabulary details for verification\n",
        "print(\"Vocabulary size:\", output_size)\n",
        "print(char2idx)\n",
        "print(idx2char)\n"
      ]
    },
    {
      "cell_type": "code",
      "execution_count": 6,
      "metadata": {
        "colab": {
          "base_uri": "https://localhost:8080/"
        },
        "id": "vOUaheViGh8u",
        "outputId": "d0af4c03-16d4-4840-9742-14415389967d"
      },
      "outputs": [
        {
          "name": "stdout",
          "output_type": "stream",
          "text": [
            "First 200 characters:\n",
            "  aer banknote berlitz calloway centrust cluett fromstein gitano guterman hydro-quebec ipo kia memotec mlx nahb punts rake regatta rubens sim snack-food ssangyong swapo wachter \n",
            " pierre <unk> N years o\n",
            "\n",
            "First few lines:\n",
            " [' aer banknote berlitz calloway centrust cluett fromstein gitano guterman hydro-quebec ipo kia memotec mlx nahb punts rake regatta rubens sim snack-food ssangyong swapo wachter ', ' pierre <unk> N years old will join the board as a nonexecutive director nov. N ', ' mr. <unk> is chairman of <unk> n.v. the dutch publishing group ', ' rudolph <unk> N years old and former chairman of consolidated gold fields plc was named a nonexecutive director of this british industrial conglomerate ', ' a form of asbestos once used to make kent cigarette filters has caused a high percentage of cancer deaths among a group of workers exposed to it more than N years ago researchers reported ']\n",
            "\n",
            "First few token IDs:\n",
            " [1, 24, 28, 41, 1, 25, 24, 37, 34, 37, 38, 43, 28, 1, 25, 28, 41, 35, 32, 43, 49, 1, 26, 24, 35, 35, 38, 46, 24, 48, 1, 26, 28, 37, 43, 41, 44, 42, 43, 1, 26, 35, 44, 28, 43, 43, 1, 29, 41, 38, 36, 42, 43, 28, 32, 37, 1, 30, 32, 43, 24, 37, 38, 1, 30, 44, 43, 28, 41, 36, 24, 37, 1, 31, 48, 27, 41, 38, 7, 40, 44, 28, 25, 28, 26, 1, 32, 39, 38, 1, 34, 32, 24, 1, 36, 28, 36, 38, 43, 28]\n"
          ]
        }
      ],
      "source": [
        "print(\"First 200 characters:\\n\", ds[:200])  # Preview 200 chars\n",
        "print(\"\\nFirst few lines:\\n\", ds.split(\"\\n\")[:5])  # Print first 5 lines\n",
        "print(\"\\nFirst few token IDs:\\n\", [char2idx[ch] for ch in ds[:100]])"
      ]
    },
    {
      "cell_type": "code",
      "execution_count": 7,
      "metadata": {
        "colab": {
          "base_uri": "https://localhost:8080/"
        },
        "id": "3rKYe0uqGh8u",
        "outputId": "1ef03b4c-7716-4418-a2b8-6ab7bc882ae1"
      },
      "outputs": [
        {
          "name": "stderr",
          "output_type": "stream",
          "text": [
            "Encoding lines: 100%|██████████| 5101618/5101618 [00:06<00:00, 741474.17it/s]\n",
            "Encoding lines: 100%|██████████| 399782/399782 [00:00<00:00, 860311.89it/s]\n"
          ]
        },
        {
          "name": "stdout",
          "output_type": "stream",
          "text": [
            "Train shapes: (28185, 180) (28185, 180)\n",
            "Val shapes: (2208, 180) (2208, 180)\n"
          ]
        }
      ],
      "source": [
        "# 1.3 Encoding Text into Integer IDs\n",
        "\n",
        "def encode_lines(lines, char2idx):\n",
        "    \"\"\"\n",
        "    Converts a given text into a list of integer arrays\n",
        "    where each character is mapped to its corresponding index.\n",
        "\n",
        "    Args:\n",
        "        lines (str): The input text (train or validation).\n",
        "        char2idx (dict): Dictionary mapping characters to integer IDs.\n",
        "\n",
        "    Returns:\n",
        "        list: A list of NumPy arrays, each representing encoded characters.\n",
        "    \"\"\"\n",
        "    encoded_list = []\n",
        "    for line in tqdm(lines, desc=\"Encoding lines\"):  # tqdm adds a progress bar\n",
        "        # Encode each character in the line using the character-to-index mapping\n",
        "        arr = np.array([char2idx.get(ch, 0) for ch in line], dtype=np.int32)\n",
        "        encoded_list.append(arr)  # Store the encoded sequence\n",
        "    return encoded_list\n",
        "\n",
        "\n",
        "# 1.4 Creating Sequences for Training\n",
        "\n",
        "def build_sequences(data, seq_length):\n",
        "    \"\"\"\n",
        "    Splits a long sequence of encoded text into smaller fixed-length input-target pairs.\n",
        "\n",
        "    Args:\n",
        "        data (jnp.array): 1D array of integer-encoded text.\n",
        "        seq_length (int): Length of each training sequence.\n",
        "\n",
        "    Returns:\n",
        "        x (jnp.array): Input sequences of shape (num_sequences, seq_length).\n",
        "        y (jnp.array): Target sequences (shifted by one character).\n",
        "    \"\"\"\n",
        "    num_seq = len(data) // (seq_length + 1)  # Total number of sequences that fit\n",
        "    data = data[:num_seq * (seq_length + 1)]  # Trim excess characters\n",
        "    data = data.reshape(num_seq, seq_length + 1)  # Reshape into sequences\n",
        "\n",
        "    x = data[:, :-1]  # Inputs: all but the last character\n",
        "    y = data[:, 1:]   # Targets: all but the first character (next-char prediction)\n",
        "\n",
        "    return x, y\n",
        "\n",
        "\n",
        "# Encode the training and validation text into integer sequences\n",
        "encoded_train_list = encode_lines(train_text, char2idx)\n",
        "encoded_val_list   = encode_lines(val_text, char2idx)\n",
        "\n",
        "# Convert lists of arrays into a single concatenated NumPy and then Jax array\n",
        "encoded_train = np.concatenate(encoded_train_list, axis=0)\n",
        "encoded_train = jnp.array(encoded_train, dtype=jnp.int32)\n",
        "\n",
        "encoded_val = np.concatenate(encoded_val_list, axis=0)\n",
        "encoded_val = jnp.array(encoded_val, dtype=jnp.int32)\n",
        "\n",
        "sequence_length = 180  # Defines the length of each training sequence\n",
        "\n",
        "# Generate training and validation sequences\n",
        "x_train, y_train = build_sequences(encoded_train, sequence_length)\n",
        "x_val, y_val = build_sequences(encoded_val, sequence_length)\n",
        "\n",
        "# Display dataset shapes for verification\n",
        "print(\"Train shapes:\", x_train.shape, y_train.shape)\n",
        "print(\"Val shapes:\", x_val.shape, y_val.shape)\n",
        "\n"
      ]
    },
    {
      "cell_type": "code",
      "execution_count": 8,
      "metadata": {
        "id": "exRGP4b_Gh8v"
      },
      "outputs": [],
      "source": [
        "# Step 2: Create Mini-batches\n",
        "\n",
        "def data_loader(x_data, y_data, batch_size):\n",
        "    \"\"\"\n",
        "    Generates mini-batches of input-target sequences for training.\n",
        "\n",
        "    Args:\n",
        "        x_data (jnp.array): Input sequences of shape (num_samples, seq_length).\n",
        "        y_data (jnp.array): Target sequences of shape (num_samples, seq_length).\n",
        "        batch_size (int): Number of samples per batch.\n",
        "\n",
        "    Yields:\n",
        "        dict: A dictionary containing:\n",
        "              - \"inputs\": A batch of input sequences (batch_size, seq_length)\n",
        "              - \"targets\": Corresponding target sequences (batch_size, seq_length)\n",
        "    \"\"\"\n",
        "    num_samples = x_data.shape[0]  # Total number of training samples\n",
        "    indices = jnp.arange(num_samples)  # Create an array of indices\n",
        "\n",
        "    # Generate a random permutation of indices to shuffle the dataset\n",
        "    key = jax.random.PRNGKey(0)  # Fixing a seed for reproducibility\n",
        "    perm = jax.random.permutation(key, indices)\n",
        "\n",
        "    # Split dataset into batches\n",
        "    for start in range(0, num_samples, batch_size):\n",
        "        end = start + batch_size\n",
        "        batch_idx = perm[start:end]  # Select indices for this batch\n",
        "\n",
        "        # Gather the batch from shuffled data\n",
        "        x_batch = x_data[batch_idx]\n",
        "        y_batch = y_data[batch_idx]\n",
        "\n",
        "        # Yield the batch as a dictionary\n",
        "        yield {\n",
        "            \"inputs\": x_batch,   # Shape: (batch_size, seq_length)\n",
        "            \"targets\": y_batch,  # Shape: (batch_size, seq_length)\n",
        "        }\n"
      ]
    },
    {
      "cell_type": "code",
      "execution_count": 9,
      "metadata": {
        "id": "8LccXjwxGh8v"
      },
      "outputs": [],
      "source": [
        "# Step 3.1 Parameter Initialization\n",
        "# state_size : the hyperprameter defining the size of the state(e)\n",
        "# input_token_size : the input dimentionality showing the size of each token(c)\n",
        "# output_size : the size of the output(o) (Output vocabulary size)\n",
        "\n",
        "# transition Function = ⌀ (A s(i-1) + B x(i))\n",
        "# Readout Function = C s(i) + D x(i)\n",
        "\n",
        "# A : A_ee is (state_size , state_size)\n",
        "# B : B_ce is (input_token_size , state_size)\n",
        "# C : C_eo is (state_size , output_size)\n",
        "# D : D_co is (input_token_size , output_size)\n",
        "\n",
        "def init_params(key, input_token_size, state_size, output_size):\n",
        "    k1, k2, k3, k4, k5 = jax.random.split(key, 5)\n",
        "\n",
        "    params = {\n",
        "        # Character embeddings: Converts token indices to dense vectors\n",
        "        \"embedding\": jax.random.normal(k1, (output_size, input_token_size)) * 0.01,\n",
        "\n",
        "        # State transition matrix (hidden-to-hidden)\n",
        "        \"A_ee\": jax.random.normal(k3, (state_size, state_size)) * 0.01,\n",
        "\n",
        "        # Input to hidden transformation\n",
        "        \"B_ce\": jax.random.normal(k2, (input_token_size, state_size)) * 0.01,\n",
        "\n",
        "        # State-to-output transformation\n",
        "        \"C_eo\": jax.random.normal(k4, (state_size, output_size)) * 0.01,\n",
        "\n",
        "        # Direct input-to-output projection\n",
        "        \"D_co\": jax.random.normal(k5, (input_token_size, output_size)) * 0.01\n",
        "    }\n",
        "\n",
        "    return params\n",
        "\n",
        "\n",
        "\n",
        "# Step 3.2 One Timestep RNN Step\n",
        "def rnn_step(params, prev_state, x_i):\n",
        "    \"\"\"\n",
        "    Computes one step of the recurrent model.\n",
        "\n",
        "    Args:\n",
        "        params (dict): Model parameters.\n",
        "        prev_state (jnp.array): Previous hidden state (batch_size, state_size).\n",
        "        x_i (jnp.array): Current input token IDs (batch_size,).\n",
        "\n",
        "    Returns:\n",
        "        current_state: Updated hidden state.\n",
        "        out_readout: Output logits for next character prediction.\n",
        "    \"\"\"\n",
        "    # 1. Convert token ID to an embedding vector\n",
        "    current_token = params[\"embedding\"][x_i]  # shape (batch_size, input_token_size)\n",
        "\n",
        "    # 2. Compute the new hidden state using the transition function\n",
        "    current_state = jnp.tanh(\n",
        "        jnp.dot(current_token, params[\"B_ce\"]) + jnp.dot(prev_state, params[\"A_ee\"])\n",
        "    )\n",
        "\n",
        "    # 3. Compute the output logits using the readout function\n",
        "    out_readout = jnp.dot(current_state, params[\"C_eo\"]) + jnp.dot(current_token, params[\"D_co\"])\n",
        "\n",
        "    return current_state, out_readout\n",
        "\n",
        "\n",
        "\n",
        "# Step 3.3 Unrolling Over Sequence (Using lax.scan)\n",
        "def rnn_forward(params, x_seq):\n",
        "    \"\"\"\n",
        "    Runs the RNN forward over an entire input sequence.\n",
        "\n",
        "    Args:\n",
        "        params (dict): Model parameters.\n",
        "        x_seq (jnp.array): Input sequences of shape (batch_size, seq_length).\n",
        "\n",
        "    Returns:\n",
        "        outputs: Logits for all timesteps (batch_size, seq_length, output_size).\n",
        "    \"\"\"\n",
        "    batch_size, seq_length = x_seq.shape\n",
        "    state_size = params[\"A_ee\"].shape[0]\n",
        "\n",
        "    # Initialize the hidden state with zeros\n",
        "    s0 = jnp.zeros((batch_size, state_size))\n",
        "\n",
        "    # Define the recurrent step function for lax.scan\n",
        "    def step_fn(carry, x_i):\n",
        "        prev_state = carry\n",
        "        next_state, out_readout = rnn_step(params, prev_state, x_i)\n",
        "        return next_state, out_readout\n",
        "\n",
        "    # Apply the recurrent function across the sequence dimension using lax.scan\n",
        "    x_seq_t = x_seq.T  # Transpose to (seq_length, batch_size) for scanning\n",
        "    final_s, outputs_scan = lax.scan(step_fn, s0, x_seq_t)\n",
        "\n",
        "    # Reshape outputs back to (batch_size, seq_length, output_size)\n",
        "    outputs = outputs_scan.transpose((1, 0, 2))\n",
        "    return outputs\n",
        "\n",
        "\n",
        "# Step 4.1 Cross-Entropy Loss\n",
        "def cross_entropy_loss(logits, targets):\n",
        "    \"\"\"\n",
        "    Computes cross-entropy loss for character-level language modeling.\n",
        "\n",
        "    Args:\n",
        "        logits (jnp.array): Predicted logits (batch_size, seq_length, output_size).\n",
        "        targets (jnp.array): Ground truth token indices (batch_size, seq_length).\n",
        "\n",
        "    Returns:\n",
        "        loss (float): Average cross-entropy loss.\n",
        "    \"\"\"\n",
        "    log_probs = nn.log_softmax(logits, axis=-1)  # Convert logits to log probabilities\n",
        "\n",
        "    # Flatten tensors for easier indexing\n",
        "    batch_size, seq_length, output_size = log_probs.shape\n",
        "    log_probs_flat = log_probs.reshape(-1, output_size)\n",
        "    targets_flat = targets.reshape(-1)\n",
        "\n",
        "    # Gather log probabilities of the correct tokens\n",
        "    selected_log_probs = jnp.take_along_axis(\n",
        "        log_probs_flat, targets_flat[:, None], axis=1\n",
        "    ).squeeze(axis=1)\n",
        "\n",
        "    # Compute negative log likelihood and return mean loss\n",
        "    loss = -jnp.mean(selected_log_probs)\n",
        "    return loss\n",
        "\n",
        "# Step 4.2 Completing Loss Wrapper\n",
        "def compute_loss(params, batch):\n",
        "    \"\"\"\n",
        "    Computes loss over a batch.\n",
        "\n",
        "    Args:\n",
        "        params (dict): Model parameters.\n",
        "        batch (dict): A dictionary with \"inputs\" and \"targets\".\n",
        "\n",
        "    Returns:\n",
        "        loss_val: Average loss over the batch.\n",
        "    \"\"\"\n",
        "    logits = rnn_forward(params, batch[\"inputs\"])  # Forward pass\n",
        "    loss_val = cross_entropy_loss(logits, batch[\"targets\"])  # Compute loss\n",
        "    return loss_val\n",
        "\n",
        "\n",
        "# Step 4.3 Training Step (Gradient + Update)\n",
        "@jax.jit\n",
        "def train_step(params, batch, lr=0.05):\n",
        "    \"\"\"\n",
        "    Performs a single training step (forward pass, loss computation, gradient update).\n",
        "\n",
        "    Args:\n",
        "        params (dict): Model parameters.\n",
        "        batch (dict): Training batch with \"inputs\" and \"targets\".\n",
        "        lr (float): Learning rate.\n",
        "\n",
        "    Returns:\n",
        "        new_params: Updated parameters after gradient descent.\n",
        "        loss_val: Loss value for the batch.\n",
        "    \"\"\"\n",
        "    loss_val, grads = jax.value_and_grad(compute_loss)(params, batch)\n",
        "\n",
        "    # Update parameters using gradient descent\n",
        "    new_params = {}\n",
        "    for k in params.keys():\n",
        "        new_params[k] = params[k] - lr * grads[k]\n",
        "\n",
        "    return new_params, loss_val\n",
        "\n",
        "\n",
        "# Step 5: Training Loop\n",
        "def train_model(params, x_train, y_train, x_val, y_val, num_epochs=5):\n",
        "    \"\"\"\n",
        "    Runs the full training process over multiple epochs.\n",
        "\n",
        "    Args:\n",
        "        params (dict): Model parameters.\n",
        "        x_train, y_train: Training input-target pairs.\n",
        "        x_val, y_val: Validation input-target pairs.\n",
        "        num_epochs (int): Number of training epochs.\n",
        "\n",
        "    Returns:\n",
        "        params: Trained model parameters.\n",
        "        train_losses, val_losses : Lists of training and validation losses.\n",
        "        train_ppls , val_ppls : Lists of training and validation perplexities.\n",
        "    \"\"\"\n",
        "    #losses\n",
        "    train_losses = []\n",
        "    val_losses = []\n",
        "\n",
        "    # Perplexity\n",
        "    train_ppls = []\n",
        "    val_ppls   = []\n",
        "\n",
        "    for epoch in range(num_epochs):\n",
        "        total_train_loss = 0.0\n",
        "        count = 0\n",
        "\n",
        "        # Create a shuffled batch generator\n",
        "        train_batches = data_loader(x_train, y_train, batch_size=64)\n",
        "\n",
        "        # Loop over all mini-batches for the epoch\n",
        "        for batch in tqdm(train_batches, desc=f\"Epoch {epoch+1}\", leave=False):\n",
        "            params, loss_val = train_step(params, batch, lr=0.05)\n",
        "            total_train_loss += loss_val\n",
        "            count += 1\n",
        "\n",
        "        # Compute average training loss\n",
        "        avg_train_loss = total_train_loss / count\n",
        "\n",
        "        # Compute validation loss on full validation set\n",
        "        val_batch = {\"inputs\": x_val, \"targets\": y_val}\n",
        "        val_loss = compute_loss(params, val_batch)\n",
        "\n",
        "        train_losses.append(float(avg_train_loss))  # convert jax type to float\n",
        "        val_losses.append(float(val_loss))\n",
        "\n",
        "        train_ppls.append(float(jnp.exp(avg_train_loss)))\n",
        "        val_ppls.append(float(jnp.exp(val_loss)))\n",
        "\n",
        "        # Print epoch summary\n",
        "        print(f\"Epoch {epoch+1} | Train Loss: {avg_train_loss:.4f} | Val Loss: {val_loss:.4f}\")\n",
        "\n",
        "    return params , train_losses, val_losses , train_ppls , val_ppls\n"
      ]
    },
    {
      "cell_type": "code",
      "execution_count": 11,
      "metadata": {
        "colab": {
          "base_uri": "https://localhost:8080/"
        },
        "id": "cqOdYhkMGh8v",
        "outputId": "af724d5a-9846-4581-9bfa-834587a28a54"
      },
      "outputs": [
        {
          "name": "stderr",
          "output_type": "stream",
          "text": []
        },
        {
          "name": "stdout",
          "output_type": "stream",
          "text": [
            "Epoch 1 | Train Loss: 3.9120 | Val Loss: 3.9119\n"
          ]
        },
        {
          "name": "stderr",
          "output_type": "stream",
          "text": []
        },
        {
          "name": "stdout",
          "output_type": "stream",
          "text": [
            "Epoch 2 | Train Loss: 3.9115 | Val Loss: 3.9107\n"
          ]
        },
        {
          "name": "stderr",
          "output_type": "stream",
          "text": []
        },
        {
          "name": "stdout",
          "output_type": "stream",
          "text": [
            "Epoch 3 | Train Loss: 3.8137 | Val Loss: 3.0689\n"
          ]
        },
        {
          "name": "stderr",
          "output_type": "stream",
          "text": []
        },
        {
          "name": "stdout",
          "output_type": "stream",
          "text": [
            "Epoch 4 | Train Loss: 2.9903 | Val Loss: 2.9838\n"
          ]
        },
        {
          "name": "stderr",
          "output_type": "stream",
          "text": []
        },
        {
          "name": "stdout",
          "output_type": "stream",
          "text": [
            "Epoch 5 | Train Loss: 2.8503 | Val Loss: 2.8924\n"
          ]
        },
        {
          "name": "stderr",
          "output_type": "stream",
          "text": []
        },
        {
          "name": "stdout",
          "output_type": "stream",
          "text": [
            "Epoch 6 | Train Loss: 2.6977 | Val Loss: 2.6734\n"
          ]
        },
        {
          "name": "stderr",
          "output_type": "stream",
          "text": []
        },
        {
          "name": "stdout",
          "output_type": "stream",
          "text": [
            "Epoch 7 | Train Loss: 2.5518 | Val Loss: 2.5795\n"
          ]
        },
        {
          "name": "stderr",
          "output_type": "stream",
          "text": []
        },
        {
          "name": "stdout",
          "output_type": "stream",
          "text": [
            "Epoch 8 | Train Loss: 2.4887 | Val Loss: 2.5179\n"
          ]
        },
        {
          "name": "stderr",
          "output_type": "stream",
          "text": []
        },
        {
          "name": "stdout",
          "output_type": "stream",
          "text": [
            "Epoch 9 | Train Loss: 2.4261 | Val Loss: 2.4356\n"
          ]
        },
        {
          "name": "stderr",
          "output_type": "stream",
          "text": []
        },
        {
          "name": "stdout",
          "output_type": "stream",
          "text": [
            "Epoch 10 | Train Loss: 2.3619 | Val Loss: 2.3753\n"
          ]
        },
        {
          "name": "stderr",
          "output_type": "stream",
          "text": []
        },
        {
          "name": "stdout",
          "output_type": "stream",
          "text": [
            "Epoch 11 | Train Loss: 2.3097 | Val Loss: 2.3364\n"
          ]
        },
        {
          "name": "stderr",
          "output_type": "stream",
          "text": []
        },
        {
          "name": "stdout",
          "output_type": "stream",
          "text": [
            "Epoch 12 | Train Loss: 2.2713 | Val Loss: 2.2985\n"
          ]
        },
        {
          "name": "stderr",
          "output_type": "stream",
          "text": []
        },
        {
          "name": "stdout",
          "output_type": "stream",
          "text": [
            "Epoch 13 | Train Loss: 2.2400 | Val Loss: 2.2655\n"
          ]
        },
        {
          "name": "stderr",
          "output_type": "stream",
          "text": []
        },
        {
          "name": "stdout",
          "output_type": "stream",
          "text": [
            "Epoch 14 | Train Loss: 2.2133 | Val Loss: 2.2319\n"
          ]
        },
        {
          "name": "stderr",
          "output_type": "stream",
          "text": []
        },
        {
          "name": "stdout",
          "output_type": "stream",
          "text": [
            "Epoch 15 | Train Loss: 2.1895 | Val Loss: 2.1994\n"
          ]
        },
        {
          "name": "stderr",
          "output_type": "stream",
          "text": []
        },
        {
          "name": "stdout",
          "output_type": "stream",
          "text": [
            "Epoch 16 | Train Loss: 2.1676 | Val Loss: 2.1688\n"
          ]
        },
        {
          "name": "stderr",
          "output_type": "stream",
          "text": []
        },
        {
          "name": "stdout",
          "output_type": "stream",
          "text": [
            "Epoch 17 | Train Loss: 2.1468 | Val Loss: 2.1413\n"
          ]
        },
        {
          "name": "stderr",
          "output_type": "stream",
          "text": []
        },
        {
          "name": "stdout",
          "output_type": "stream",
          "text": [
            "Epoch 18 | Train Loss: 2.1270 | Val Loss: 2.1199\n"
          ]
        },
        {
          "name": "stderr",
          "output_type": "stream",
          "text": []
        },
        {
          "name": "stdout",
          "output_type": "stream",
          "text": [
            "Epoch 19 | Train Loss: 2.1080 | Val Loss: 2.1028\n"
          ]
        },
        {
          "name": "stderr",
          "output_type": "stream",
          "text": []
        },
        {
          "name": "stdout",
          "output_type": "stream",
          "text": [
            "Epoch 20 | Train Loss: 2.0900 | Val Loss: 2.0883\n"
          ]
        },
        {
          "name": "stderr",
          "output_type": "stream",
          "text": []
        },
        {
          "name": "stdout",
          "output_type": "stream",
          "text": [
            "Epoch 21 | Train Loss: 2.0728 | Val Loss: 2.0755\n"
          ]
        },
        {
          "name": "stderr",
          "output_type": "stream",
          "text": []
        },
        {
          "name": "stdout",
          "output_type": "stream",
          "text": [
            "Epoch 22 | Train Loss: 2.0564 | Val Loss: 2.0637\n"
          ]
        },
        {
          "name": "stderr",
          "output_type": "stream",
          "text": []
        },
        {
          "name": "stdout",
          "output_type": "stream",
          "text": [
            "Epoch 23 | Train Loss: 2.0405 | Val Loss: 2.0524\n"
          ]
        },
        {
          "name": "stderr",
          "output_type": "stream",
          "text": []
        },
        {
          "name": "stdout",
          "output_type": "stream",
          "text": [
            "Epoch 24 | Train Loss: 2.0254 | Val Loss: 2.0409\n"
          ]
        },
        {
          "name": "stderr",
          "output_type": "stream",
          "text": []
        },
        {
          "name": "stdout",
          "output_type": "stream",
          "text": [
            "Epoch 25 | Train Loss: 2.0110 | Val Loss: 2.0290\n"
          ]
        },
        {
          "name": "stderr",
          "output_type": "stream",
          "text": []
        },
        {
          "name": "stdout",
          "output_type": "stream",
          "text": [
            "Epoch 26 | Train Loss: 1.9973 | Val Loss: 2.0169\n"
          ]
        },
        {
          "name": "stderr",
          "output_type": "stream",
          "text": []
        },
        {
          "name": "stdout",
          "output_type": "stream",
          "text": [
            "Epoch 27 | Train Loss: 1.9844 | Val Loss: 2.0048\n"
          ]
        },
        {
          "name": "stderr",
          "output_type": "stream",
          "text": []
        },
        {
          "name": "stdout",
          "output_type": "stream",
          "text": [
            "Epoch 28 | Train Loss: 1.9722 | Val Loss: 1.9926\n"
          ]
        },
        {
          "name": "stderr",
          "output_type": "stream",
          "text": []
        },
        {
          "name": "stdout",
          "output_type": "stream",
          "text": [
            "Epoch 29 | Train Loss: 1.9605 | Val Loss: 1.9807\n"
          ]
        },
        {
          "name": "stderr",
          "output_type": "stream",
          "text": []
        },
        {
          "name": "stdout",
          "output_type": "stream",
          "text": [
            "Epoch 30 | Train Loss: 1.9494 | Val Loss: 1.9690\n"
          ]
        }
      ],
      "source": [
        "# step 6: Run the Training\n",
        "# Define hyperparameters\n",
        "\n",
        "input_token_size = 128   # embedding dimension\n",
        "state_size = 128  # state size\n",
        "key = jax.random.PRNGKey(42)\n",
        "\n",
        "# Initialize parameters\n",
        "params = init_params(key, input_token_size, state_size, output_size)\n",
        "\n",
        "# Train\n",
        "params ,train_losses, val_losses , train_ppls , val_ppls  = train_model(params, x_train, y_train, x_val, y_val, num_epochs=30)"
      ]
    },
    {
      "cell_type": "code",
      "execution_count": 12,
      "metadata": {
        "colab": {
          "base_uri": "https://localhost:8080/",
          "height": 957
        },
        "id": "NoCLyg-bARN4",
        "outputId": "8238ffc5-8440-407a-a1cd-c80cbd445ee5"
      },
      "outputs": [
        {
          "data": {
            "image/png": "[encoded data removed]",
            "text/plain": [
              "<Figure size 800x500 with 1 Axes>"
            ]
          },
          "metadata": {},
          "output_type": "display_data"
        },
        {
          "data": {
            "image/png": "[encoded data removed]",
            "text/plain": [
              "<Figure size 800x500 with 1 Axes>"
            ]
          },
          "metadata": {},
          "output_type": "display_data"
        }
      ],
      "source": [
        "# plot the train and validation losses\n",
        "plt.figure(figsize=(8,5))\n",
        "plt.plot(train_losses, label=\"Train Loss\")\n",
        "plt.plot(val_losses, label=\"Val Loss\")\n",
        "plt.xlabel(\"Epoch\")\n",
        "plt.ylabel(\"Loss\")\n",
        "plt.title(\"Training & Validation Loss\")\n",
        "plt.legend()\n",
        "plt.show()\n",
        "\n",
        "\n",
        "# plot the train and validation perplexities\n",
        "plt.figure(figsize=(8,5))\n",
        "plt.plot(train_ppls, label=\"Train Perplexity\")\n",
        "plt.plot(val_ppls, label=\"Val Perplexity\")\n",
        "plt.xlabel(\"Epoch\")\n",
        "plt.ylabel(\"Perplexity\")\n",
        "plt.title(\"Training & Validation Perplexity\")\n",
        "plt.legend()\n",
        "plt.show()"
      ]
    },
    {
      "cell_type": "markdown",
      "metadata": {
        "id": "IgNW5JzWsMPj"
      },
      "source": [
        "## Autoregressive generation"
      ]
    },
    {
      "cell_type": "markdown",
      "metadata": {
        "id": "JjJSwJfHFFy5"
      },
      "source": [
        "# DESCRIPTION:\n",
        "In this assignment, we will implement a function that uses the assignment one trained RNN to generate text one character at a time, feeding each newly predicted character back into the model. we begin with a prompt (e.g., “the market”) and “warm up” the hidden state by passing in each character from that prompt. Once the prompt is consumed, the model samples subsequent characters from its own output probabilities which is adjusted by a temperature parameter to control randomness and appends them to the text. This loop highlights the autoregressive nature of language modeling: each new token depends on the model’s updated hidden state, which in turn reflects all previously generated tokens. While such sampling can produce diverse and creative output, it can sometimes descend into weird or repetitive text if the model's probabilities mislead it."
      ]
    },
    {
      "cell_type": "code",
      "execution_count": 14,
      "metadata": {
        "id": "JERSKsJP6YpM"
      },
      "outputs": [],
      "source": [
        "def generate_text(params,\n",
        "                  prompt,\n",
        "                  char2idx,\n",
        "                  idx2char,\n",
        "                  length=100,\n",
        "                  temperature=1.0,\n",
        "                  rng_key=jax.random.PRNGKey(999)):\n",
        "    \"\"\"\n",
        "    Generates text in an autoregressive manner.\n",
        "\n",
        "    Args:\n",
        "        params (dict): Trained RNN parameters.\n",
        "        prompt (str): Initial string to \"warm up\" the model.\n",
        "        char2idx (dict): Mapping from character to integer ID.\n",
        "        idx2char (dict): Mapping from integer ID back to character.\n",
        "        length (int): Number of characters to generate.\n",
        "        temperature (float): Sampling temperature (higher = more random, lower = more deterministic).\n",
        "        rng_key: JAX random key for sampling.\n",
        "\n",
        "    Returns:\n",
        "        str: The generated text (original prompt + newly generated characters).\n",
        "    \"\"\"\n",
        "    # Convert the prompt into integer IDs (ignore any unknown characters)\n",
        "    prompt_ids = [char2idx[ch] for ch in prompt if ch in char2idx]\n",
        "\n",
        "    # Initialize the hidden state as zeros\n",
        "    state_size = params[\"A_ee\"].shape[0]\n",
        "    h = jnp.zeros((1, state_size))  # shape: (batch_size=1, state_size)\n",
        "\n",
        "    # \"Warm up\" the RNN by feeding in the prompt characters\n",
        "    for ch_id in prompt_ids:\n",
        "        h, logits = rnn_step(params, h, jnp.array([ch_id]))  # No dropout or RNG needed here\n",
        "\n",
        "    # Start generating new characters after the prompt\n",
        "    generated = list(prompt)\n",
        "    prev_char_id = prompt_ids[-1] if prompt_ids else 0  # Fallback to ID 0 if prompt is empty\n",
        "\n",
        "    for i in range(length):\n",
        "        # Split the RNG to get a fresh subkey each iteration\n",
        "        rng_key, subkey = jax.random.split(rng_key)\n",
        "\n",
        "        # RNN forward step\n",
        "        h, logits = rnn_step(params, h, jnp.array([prev_char_id]))\n",
        "\n",
        "        # Apply temperature scaling before softmax\n",
        "        logits = logits / temperature\n",
        "        probs = jax.nn.softmax(logits, axis=-1)  # shape: (1, vocab_size)\n",
        "\n",
        "        # Sample the next character from the probability distribution\n",
        "        next_char_id = jax.random.choice(subkey, probs.shape[-1], p=probs[0])\n",
        "        generated.append(idx2char[int(next_char_id)])\n",
        "\n",
        "        # Update the previous character ID for the next iteration\n",
        "        prev_char_id = next_char_id\n",
        "\n",
        "    return \"\".join(generated)\n"
      ]
    },
    {
      "cell_type": "markdown",
      "metadata": {
        "id": "rYMmBkEp628j"
      },
      "source": [
        "Now we will print out a text of length\n",
        "len(prompt)\n",
        "+\n",
        "length(defined in the call of the function). we can vary temperature to make the sampling more or less “random”:\n",
        "- temperature < 1.0: The model tends to pick higher-probability (safer) characters.\n",
        "- temperature > 1.0: The model picks from a flatter distribution, producing more varied (but sometimes nonsensical) text."
      ]
    },
    {
      "cell_type": "code",
      "execution_count": 20,
      "metadata": {
        "colab": {
          "base_uri": "https://localhost:8080/"
        },
        "id": "zMR_VhpYGh8v",
        "outputId": "eb7fbb3b-2660-466c-ef68-36ec98ae1cba"
      },
      "outputs": [
        {
          "name": "stdout",
          "output_type": "stream",
          "text": [
            "---- SAMPLE GENERATION ----\n",
            "the market wtherent were de <unghing thand by thing <unk> bepreder the N blinge the <unk> <unk> 's N the <unk> and \n",
            " thathing and <unk> the wis <unk> <unk> <ungare the <unk> the ware <unk> the fings <unk> hay <u\n"
          ]
        }
      ],
      "source": [
        "print(\"---- SAMPLE GENERATION ----\")\n",
        "prompt = \"the market \"\n",
        "rng_key = jax.random.PRNGKey(12345)\n",
        "gen_text = generate_text(\n",
        "    params,\n",
        "    prompt,\n",
        "    char2idx,\n",
        "    idx2char,\n",
        "    length=200,\n",
        "    temperature=1.0,\n",
        "    rng_key=rng_key)\n",
        "print(gen_text)\n"
      ]
    },
    {
      "cell_type": "code",
      "execution_count": 16,
      "metadata": {
        "colab": {
          "base_uri": "https://localhost:8080/"
        },
        "id": "rQ0W7c8E7mhH",
        "outputId": "338e1cd8-5870-41f4-e5a0-1e68517f0b07"
      },
      "outputs": [
        {
          "name": "stdout",
          "output_type": "stream",
          "text": [
            "Generated text:\n",
            "this course wtherers wercong N there hiom janthanve the thar the thas and indert inde 'rel <unk> <unk> \n",
            " bexthhinghs breanvmarged fedesthing wound wing anthed a <unk> malingh the wasted N <unk> ingeved thach whar\n"
          ]
        }
      ],
      "source": [
        "prompt = \"this course \"\n",
        "rng_key = jax.random.PRNGKey(12345)\n",
        "gen_text = generate_text(\n",
        "    params,\n",
        "    prompt,\n",
        "    char2idx,\n",
        "    idx2char,\n",
        "    length=200,\n",
        "    temperature=1.5,\n",
        "    rng_key=rng_key\n",
        ")\n",
        "print(\"Generated text:\")\n",
        "print(gen_text)\n"
      ]
    },
    {
      "cell_type": "markdown",
      "metadata": {
        "id": "XXUhR5ZH9PKQ"
      },
      "source": [
        "## Beam search"
      ]
    },
    {
      "cell_type": "markdown",
      "metadata": {
        "id": "ydVsOERJxYwV"
      },
      "source": [
        "# DESCRIPTION:\n",
        "Below I implemented a beam search for my character-level RNN, compared it with a greedy decoding approach. Then I will show that we are be able to generate text with both greedy decoding (pick the highest probability character each step) and beam search decoding (explore multiple top candidates at each step). The reasons why we Use Beam Search is because In language modeling, greedy decoding often produces locally optimal but globally suboptimal text and  a beam-size > 1 helps discover more coherent or globally likely sequences.\n",
        "Considering we already have the following model and related functions:\n",
        "- A trained model (params) and The rnn_step() function (which takes (params, prev_hidden, input_id) and returns (new_hidden, logits)).\n",
        "- A vocabulary mapping (char2idx, idx2char, output_size) and a temperature parameter for scaling logits.\n",
        "\n",
        "then we can write these 2 functions:\n",
        "- greedy_decode: A simpler approach where we always pick the argmax character.\n",
        "- beam_search_decode: A function that tracks multiple hypotheses at once."
      ]
    },
    {
      "cell_type": "code",
      "execution_count": 17,
      "metadata": {
        "id": "rJZBZUFA6POv"
      },
      "outputs": [],
      "source": [
        "# TODO: Your code here.\n",
        "\n",
        "# Greedy Decoding( it is the same as the previous excercise):\n",
        "# We compute logits, scale by 1/temperature, and do argmax(logits[0]).\n",
        "# No random sampling needed. It just selects the single top candidate.\n",
        "\n",
        "def greedy_decode(params, prompt, char2idx, idx2char, length=100, temperature=1.0):\n",
        "    \"\"\"\n",
        "    Decodes characters greedily from previously implemented RNN model.\n",
        "    - at each step, it must pick the single most likely next character.\n",
        "\n",
        "    Args:\n",
        "        params (dict): Trained RNN parameters.\n",
        "        prompt (str): Initial string to 'warm up' the model.\n",
        "        char2idx (dict): char->int mapping.\n",
        "        idx2char (dict): int->char mapping.\n",
        "        length (int): How many new characters to generate.\n",
        "        temperature (float): Temperature for sampling (1.0 = default, <1 => less random).\n",
        "\n",
        "    Returns:\n",
        "        str: The generated text (prompt + additional characters).\n",
        "    \"\"\"\n",
        "    # Convert prompt to integer IDs\n",
        "    prompt_ids = [char2idx[ch] for ch in prompt if ch in char2idx]\n",
        "\n",
        "    # Initialize the hidden state\n",
        "    state_size = params[\"A_ee\"].shape[0]\n",
        "    h = jnp.zeros((1, state_size))\n",
        "\n",
        "    # Warm up the model by passing the prompt\n",
        "    for ch_id in prompt_ids:\n",
        "        h, logits = rnn_step(params, h, jnp.array([ch_id]))\n",
        "\n",
        "    generated = list(prompt)\n",
        "    prev_char_id = prompt_ids[-1] if prompt_ids else 0\n",
        "\n",
        "    for _ in range(length):\n",
        "        # forward pass\n",
        "        h, logits = rnn_step(params, h, jnp.array([prev_char_id]))\n",
        "\n",
        "        # apply temperature\n",
        "        logits = logits / temperature\n",
        "\n",
        "        # pick the argmax (greedy)\n",
        "        next_char_id = int(jnp.argmax(logits[0]))\n",
        "\n",
        "        generated.append(idx2char[next_char_id])\n",
        "        prev_char_id = next_char_id\n",
        "\n",
        "    return \"\".join(generated)\n"
      ]
    },
    {
      "cell_type": "code",
      "execution_count": 18,
      "metadata": {
        "id": "B1lK-h0gNhh4"
      },
      "outputs": [],
      "source": [
        "def beam_search_decode(params,\n",
        "                           prompt,\n",
        "                           char2idx,\n",
        "                           idx2char,\n",
        "                           beam_size=3,\n",
        "                           length=50,\n",
        "                           temperature=1.0):\n",
        "    \"\"\"\n",
        "    Performs character-level beam search decoding using JAX, without explicit Python loops\n",
        "    over the time dimension (length).\n",
        "\n",
        "    Args:\n",
        "        params (dict): Trained RNN parameters (embedding, A_ee, B_ce, C_eo, D_co, ...).\n",
        "        prompt (str): Initial prompt text to \"warm up\" the RNN state (e.g., \"the market\").\n",
        "        char2idx (dict): Character-to-integer mapping.\n",
        "        idx2char (dict): Integer-to-character mapping.\n",
        "        beam_size (int): Number of beams to maintain at each timestep.\n",
        "        length (int): Number of tokens to generate beyond the prompt.\n",
        "        temperature (float): Temperature for scaling logits (1.0 = default, >1 more random).\n",
        "\n",
        "    Returns:\n",
        "        str: A string containing the prompt plus the newly generated tokens,\n",
        "             from the highest-probability beam at the final step.\n",
        "    \"\"\"\n",
        "\n",
        "    # --- 1) Convert prompt to integer IDs ---\n",
        "    # We skip any character not in the vocabulary\n",
        "    prompt_ids = jnp.array([char2idx[ch] for ch in prompt if ch in char2idx],\n",
        "                           dtype=jnp.int32)\n",
        "    prompt_len = prompt_ids.shape[0]\n",
        "\n",
        "    # --- 2) Warm up hidden state by scanning over the prompt tokens\n",
        "    # This avoids a Python loop for feeding the prompt. Each token is processed in turn.\n",
        "    state_size = params[\"A_ee\"].shape[0]\n",
        "    h0 = jnp.zeros((1, state_size), dtype=jnp.float32)\n",
        "\n",
        "    def warmup_fn(h, token_id):\n",
        "        # rnn_step expects shape (batch_size, state_size), (batch_size,)\n",
        "        # so we expand dims for the hidden state and token_id\n",
        "        h_next, _ = rnn_step(params, h, jnp.array([token_id]))\n",
        "        return h_next, None\n",
        "\n",
        "    # We use lax.scan to apply warmup_fn over all prompt tokens, updating the hidden state\n",
        "    h_warmed, _ = lax.scan(warmup_fn, h0, prompt_ids)\n",
        "    # Resulting shape of h_warmed: (1, state_size)\n",
        "\n",
        "    # --- 3) Initialize beam tracking arrays ---\n",
        "    # The full output length = prompt_len + length\n",
        "    total_len = prompt_len + length\n",
        "\n",
        "    # Replicate the warmed hidden state across beam rows -> shape (beam_size, state_size)\n",
        "    beam_states = jnp.tile(h_warmed, (beam_size, 1))\n",
        "\n",
        "    # Preallocate a sequence buffer: (beam_size, total_len). Fill with -1 as a placeholder.\n",
        "    beam_seq = -jnp.ones((beam_size, total_len), dtype=jnp.int32)\n",
        "\n",
        "    # The first beam uses the prompt; the rest remain -1\n",
        "    beam_seq = beam_seq.at[0, :prompt_len].set(prompt_ids)\n",
        "\n",
        "    # Log-probs for each beam: first beam=0, the rest=very negative\n",
        "    beam_logp = jnp.array([0.0] + [-1e10]*(beam_size-1), dtype=jnp.float32)\n",
        "\n",
        "    # Step counter tracks how many new tokens have been generated up untill now\n",
        "    step0 = jnp.array(0, dtype=jnp.int32)\n",
        "\n",
        "    # Our lax.scan carry is (beam_states, beam_seq, beam_logp, step_idx)\n",
        "    carry_init = (beam_states, beam_seq, beam_logp, step0)\n",
        "\n",
        "    # -- 3.1) Single step forward for one beam row (no time loop)\n",
        "    def single_beam_forward(h_and_tok):\n",
        "        \"\"\"\n",
        "        Runs one RNN step for a single beam element.\n",
        "          h_and_tok: ( (state_size,), token_id )\n",
        "        Returns:\n",
        "          ( (state_size,), (vocab_size,) ) - new hidden and new logits\n",
        "        \"\"\"\n",
        "        h_in, token_id = h_and_tok\n",
        "\n",
        "        # Expand dims so we can call rnn_step for batch_size=1\n",
        "        h_out, raw_logits = rnn_step(params, h_in[None, :], jnp.array([token_id]))\n",
        "        # Expect raw_logits => (1, vocab_size), h_out => (1, state_size)\n",
        "\n",
        "        # Remove the leading batch dimension\n",
        "        h_out = h_out[0]       # shape => (state_size,)\n",
        "        logits = raw_logits[0] # shape => (vocab_size,)\n",
        "\n",
        "        return h_out, logits\n",
        "\n",
        "    #  3.2) Beam step function for lax.scan (one decoding timestep)\n",
        "    def beam_step(carry, _):\n",
        "        \"\"\"\n",
        "        carry: (beam_states, beam_seq, beam_logp, step_idx)\n",
        "        We expand each beam by vocab_size, then pick top beam_size.\n",
        "\n",
        "        Returns the updated carry for the next decoding step.\n",
        "        \"\"\"\n",
        "        beam_states, beam_seq, beam_logp, step_idx = carry\n",
        "\n",
        "        # 1) The new token index in the sequence\n",
        "        pos = prompt_len + step_idx  # from [prompt_len, prompt_len+length-1]\n",
        "\n",
        "        # 2) For each beam row, get the last token\n",
        "        last_tokens = beam_seq[:, pos - 1]  # shape => (beam_size,)\n",
        "\n",
        "        # 3) vmap over beam dimension => new hidden states & logits for each beam\n",
        "        h_and_tok = (beam_states, last_tokens)\n",
        "        next_states, next_logits = jax.vmap(single_beam_forward)(h_and_tok)\n",
        "        # next_states - (beam_size, state_size)\n",
        "        # next_logits - (beam_size, vocab_size)\n",
        "\n",
        "        # 4) scale by temperature & convert to log-prob\n",
        "        next_logits = next_logits / temperature\n",
        "        log_probs = nn.log_softmax(next_logits, axis=-1)  # shape => (beam_size, vocab_size)\n",
        "\n",
        "        # 5) combine old log-probs - (beam_size, vocab_size)\n",
        "        new_logp = beam_logp[:, None] + log_probs\n",
        "\n",
        "        # 6) flatten => shape (beam_size * vocab_size,)\n",
        "        flat_logp = new_logp.reshape(-1)\n",
        "\n",
        "        # 7) pick top beam_size expansions\n",
        "        topk_logp, topk_idx = lax.top_k(flat_logp, beam_size)\n",
        "\n",
        "        vocab_size = next_logits.shape[1]\n",
        "        beam_ids = topk_idx // vocab_size  # which beam row\n",
        "        token_ids = topk_idx % vocab_size  # which next token\n",
        "\n",
        "        # reorder states and sequences based on topk\n",
        "        chosen_states = next_states[beam_ids]  # (beam_size, state_size)\n",
        "        chosen_seq = beam_seq[beam_ids]        # (beam_size, total_len)\n",
        "\n",
        "        # update chosen_seq with the newly selected token at column 'pos'\n",
        "        chosen_seq = chosen_seq.at[jnp.arange(beam_size), pos].set(token_ids)\n",
        "\n",
        "        # new step count\n",
        "        new_step = step_idx + 1\n",
        "\n",
        "        # updated carry\n",
        "        new_carry = (chosen_states, chosen_seq, topk_logp, new_step)\n",
        "        return new_carry, None\n",
        "\n",
        "    # 4) scan over 'length' decoding steps (no Python loop for time)\n",
        "    final_carry, _ = lax.scan(beam_step, carry_init, xs=None, length=length)\n",
        "    final_states, final_seq, final_logp, final_step = final_carry\n",
        "\n",
        "    # 5) pick the best beam row from final_logp\n",
        "    best_idx = jnp.argmax(final_logp)\n",
        "    best_seq = final_seq[best_idx]  # shape -> (total_len,)\n",
        "\n",
        "    # Convert tokens to characters, ignoring placeholder -1\n",
        "    out_chars = [idx2char[int(t)] for t in best_seq if t != -1]\n",
        "\n",
        "    # Return the final string\n",
        "    return \"\".join(out_chars)\n"
      ]
    },
    {
      "cell_type": "code",
      "execution_count": 19,
      "metadata": {
        "colab": {
          "base_uri": "https://localhost:8080/"
        },
        "id": "Pj4Jdwrf4hM3",
        "outputId": "16b251ba-76e8-4304-f940-c866cc68fba1"
      },
      "outputs": [
        {
          "name": "stdout",
          "output_type": "stream",
          "text": [
            "Greedy Decoding:\n",
            "the marketh the <unk> the <unk> the <unk> the <unk> the <unk> the <unk> the <unk> the <unk> the <unk> the <unk\n",
            "\n",
            "Beam Search Result without for loops:\n",
            "the marketh the <unk> the <unk> the <unk> the <unk> the <unk> the <unk> the <unk> the <unk> the <unk> the <unk\n"
          ]
        }
      ],
      "source": [
        "prompt = \"the market\".lower()\n",
        "beam_size = 3\n",
        "seq_length = 100\n",
        "\n",
        "# Greedy decoding\n",
        "greedy_text = greedy_decode(params, prompt, char2idx, idx2char, length=seq_length, temperature=1.0)\n",
        "print(\"Greedy Decoding:\")\n",
        "print(greedy_text)\n",
        "\n",
        "\n",
        "decoded_text = beam_search_decode(params, prompt, char2idx, idx2char, beam_size=beam_size, length=seq_length, temperature=1.0)\n",
        "print(\"\\nBeam Search Result without for loops:\")\n",
        "print(decoded_text)\n"
      ]
    },
    {
      "cell_type": "markdown",
      "metadata": {
        "id": "mTVOExiWFJA9"
      },
      "source": [
        "# Reasons why “the <.unk>” is the repetitive output in both the Greedy and Beam Search:\n",
        "\n",
        "1. Model has a bias toward <.unk> . The selected dataset, (PTB) dataset , replaces many rare words with <.unk>. My model learns that <.unk> is highly probable, especially after “the,” and therefore causing repetition.\n",
        "\n",
        "2. The model lacks capacity or training With only 25 epochs and small hidden size (128), therefore the model might not capture enough variety. It falls back to a few high-probability tokens (“the”, <.unk>).\n",
        "\n",
        "3. Greedy and Beamsearch both pick the top probabilities. Greedy always picks the argmax next token. Beam search keeps multiple hypotheses, but if the model strongly prefers <.unk>, beam expansions also converge on it.\n",
        "\n",
        "# How Can we Improve the Results:\n",
        "\n",
        "1. Train Longer the model with more epochs to let the model reduce its reliance on <.unk> fallback patterns.\n",
        "2. Tune Hyperparameters and use an optimizer like Adam.\n",
        "3. Increase state_size if hardware permits.\n",
        "4. using more advanced architecture like LSTM or GRU with dropout to better capture context and reduce repetition.\n",
        "5. Changing the dataset or using a bigger and better datasets."
      ]
    }
  ],
  "metadata": {
    "accelerator": "GPU",
    "colab": {
      "gpuType": "T4",
      "provenance": []
    },
    "kernelspec": {
      "display_name": "Python 3",
      "name": "python3"
    },
    "language_info": {
      "codemirror_mode": {
        "name": "ipython",
        "version": 3
      },
      "file_extension": ".py",
      "mimetype": "text/x-python",
      "name": "python",
      "nbconvert_exporter": "python",
      "pygments_lexer": "ipython3",
      "version": "3.11.4"
    }
  },
  "nbformat": 4,
  "nbformat_minor": 0
}
